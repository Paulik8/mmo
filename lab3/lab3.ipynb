{
 "cells": [
  {
   "cell_type": "code",
   "execution_count": 1,
   "metadata": {},
   "outputs": [],
   "source": [
    "import numpy as np\n",
    "import pandas as pd\n",
    "import seaborn as sns\n",
    "import matplotlib.pyplot as plt\n",
    "%matplotlib inline \n",
    "sns.set(style=\"ticks\")"
   ]
  },
  {
   "cell_type": "code",
   "execution_count": 4,
   "metadata": {},
   "outputs": [],
   "source": [
    "data = pd.read_csv('data/restaurant-scores-lives-standard.csv', sep=\",\")"
   ]
  },
  {
   "cell_type": "code",
   "execution_count": 5,
   "metadata": {},
   "outputs": [
    {
     "data": {
      "text/plain": [
       "(53973, 17)"
      ]
     },
     "execution_count": 5,
     "metadata": {},
     "output_type": "execute_result"
    }
   ],
   "source": [
    "data.shape"
   ]
  },
  {
   "cell_type": "code",
   "execution_count": 6,
   "metadata": {
    "scrolled": true
   },
   "outputs": [
    {
     "data": {
      "text/plain": [
       "business_id                int64\n",
       "business_name             object\n",
       "business_address          object\n",
       "business_city             object\n",
       "business_state            object\n",
       "business_postal_code      object\n",
       "business_latitude        float64\n",
       "business_longitude       float64\n",
       "business_location         object\n",
       "business_phone_number    float64\n",
       "inspection_id             object\n",
       "inspection_date           object\n",
       "inspection_score         float64\n",
       "inspection_type           object\n",
       "violation_id              object\n",
       "violation_description     object\n",
       "risk_category             object\n",
       "dtype: object"
      ]
     },
     "execution_count": 6,
     "metadata": {},
     "output_type": "execute_result"
    }
   ],
   "source": [
    "data.dtypes "
   ]
  },
  {
   "cell_type": "code",
   "execution_count": 7,
   "metadata": {},
   "outputs": [
    {
     "data": {
      "text/plain": [
       "business_id                  0\n",
       "business_name                0\n",
       "business_address             0\n",
       "business_city                0\n",
       "business_state               0\n",
       "business_postal_code      1083\n",
       "business_latitude        24095\n",
       "business_longitude       24095\n",
       "business_location        24095\n",
       "business_phone_number    36539\n",
       "inspection_id                0\n",
       "inspection_date              0\n",
       "inspection_score         14114\n",
       "inspection_type              0\n",
       "violation_id             13462\n",
       "violation_description    13462\n",
       "risk_category            13462\n",
       "dtype: int64"
      ]
     },
     "execution_count": 7,
     "metadata": {},
     "output_type": "execute_result"
    }
   ],
   "source": [
    "data.isnull().sum()"
   ]
  },
  {
   "cell_type": "code",
   "execution_count": 8,
   "metadata": {},
   "outputs": [
    {
     "data": {
      "text/html": [
       "<div>\n",
       "<style scoped>\n",
       "    .dataframe tbody tr th:only-of-type {\n",
       "        vertical-align: middle;\n",
       "    }\n",
       "\n",
       "    .dataframe tbody tr th {\n",
       "        vertical-align: top;\n",
       "    }\n",
       "\n",
       "    .dataframe thead th {\n",
       "        text-align: right;\n",
       "    }\n",
       "</style>\n",
       "<table border=\"1\" class=\"dataframe\">\n",
       "  <thead>\n",
       "    <tr style=\"text-align: right;\">\n",
       "      <th></th>\n",
       "      <th>business_id</th>\n",
       "      <th>business_name</th>\n",
       "      <th>business_address</th>\n",
       "      <th>business_city</th>\n",
       "      <th>business_state</th>\n",
       "      <th>business_postal_code</th>\n",
       "      <th>business_latitude</th>\n",
       "      <th>business_longitude</th>\n",
       "      <th>business_location</th>\n",
       "      <th>business_phone_number</th>\n",
       "      <th>inspection_id</th>\n",
       "      <th>inspection_date</th>\n",
       "      <th>inspection_score</th>\n",
       "      <th>inspection_type</th>\n",
       "      <th>violation_id</th>\n",
       "      <th>violation_description</th>\n",
       "      <th>risk_category</th>\n",
       "    </tr>\n",
       "  </thead>\n",
       "  <tbody>\n",
       "    <tr>\n",
       "      <th>0</th>\n",
       "      <td>69618</td>\n",
       "      <td>Fancy Wheatfield Bakery</td>\n",
       "      <td>1362 Stockton St</td>\n",
       "      <td>San Francisco</td>\n",
       "      <td>CA</td>\n",
       "      <td>94133</td>\n",
       "      <td>NaN</td>\n",
       "      <td>NaN</td>\n",
       "      <td>NaN</td>\n",
       "      <td>NaN</td>\n",
       "      <td>69618_20190304</td>\n",
       "      <td>2019-03-04T00:00:00.000</td>\n",
       "      <td>NaN</td>\n",
       "      <td>Complaint</td>\n",
       "      <td>69618_20190304_103130</td>\n",
       "      <td>Inadequate sewage or wastewater disposal</td>\n",
       "      <td>Moderate Risk</td>\n",
       "    </tr>\n",
       "    <tr>\n",
       "      <th>1</th>\n",
       "      <td>97975</td>\n",
       "      <td>BREADBELLY</td>\n",
       "      <td>1408 Clement St</td>\n",
       "      <td>San Francisco</td>\n",
       "      <td>CA</td>\n",
       "      <td>94118</td>\n",
       "      <td>NaN</td>\n",
       "      <td>NaN</td>\n",
       "      <td>NaN</td>\n",
       "      <td>1.415724e+10</td>\n",
       "      <td>97975_20190725</td>\n",
       "      <td>2019-07-25T00:00:00.000</td>\n",
       "      <td>96.0</td>\n",
       "      <td>Routine - Unscheduled</td>\n",
       "      <td>97975_20190725_103124</td>\n",
       "      <td>Inadequately cleaned or sanitized food contact...</td>\n",
       "      <td>Moderate Risk</td>\n",
       "    </tr>\n",
       "    <tr>\n",
       "      <th>2</th>\n",
       "      <td>69487</td>\n",
       "      <td>Hakkasan San Francisco</td>\n",
       "      <td>1 Kearny St</td>\n",
       "      <td>San Francisco</td>\n",
       "      <td>CA</td>\n",
       "      <td>94108</td>\n",
       "      <td>NaN</td>\n",
       "      <td>NaN</td>\n",
       "      <td>NaN</td>\n",
       "      <td>NaN</td>\n",
       "      <td>69487_20180418</td>\n",
       "      <td>2018-04-18T00:00:00.000</td>\n",
       "      <td>88.0</td>\n",
       "      <td>Routine - Unscheduled</td>\n",
       "      <td>69487_20180418_103119</td>\n",
       "      <td>Inadequate and inaccessible handwashing facili...</td>\n",
       "      <td>Moderate Risk</td>\n",
       "    </tr>\n",
       "    <tr>\n",
       "      <th>3</th>\n",
       "      <td>91044</td>\n",
       "      <td>Chopsticks Restaurant</td>\n",
       "      <td>4615 Mission St</td>\n",
       "      <td>San Francisco</td>\n",
       "      <td>CA</td>\n",
       "      <td>94112</td>\n",
       "      <td>NaN</td>\n",
       "      <td>NaN</td>\n",
       "      <td>NaN</td>\n",
       "      <td>NaN</td>\n",
       "      <td>91044_20170818</td>\n",
       "      <td>2017-08-18T00:00:00.000</td>\n",
       "      <td>NaN</td>\n",
       "      <td>Non-inspection site visit</td>\n",
       "      <td>NaN</td>\n",
       "      <td>NaN</td>\n",
       "      <td>NaN</td>\n",
       "    </tr>\n",
       "    <tr>\n",
       "      <th>4</th>\n",
       "      <td>85987</td>\n",
       "      <td>Tselogs</td>\n",
       "      <td>552 Jones St</td>\n",
       "      <td>San Francisco</td>\n",
       "      <td>CA</td>\n",
       "      <td>94102</td>\n",
       "      <td>NaN</td>\n",
       "      <td>NaN</td>\n",
       "      <td>NaN</td>\n",
       "      <td>NaN</td>\n",
       "      <td>85987_20180412</td>\n",
       "      <td>2018-04-12T00:00:00.000</td>\n",
       "      <td>94.0</td>\n",
       "      <td>Routine - Unscheduled</td>\n",
       "      <td>85987_20180412_103132</td>\n",
       "      <td>Improper thawing methods</td>\n",
       "      <td>Moderate Risk</td>\n",
       "    </tr>\n",
       "  </tbody>\n",
       "</table>\n",
       "</div>"
      ],
      "text/plain": [
       "   business_id            business_name  business_address  business_city  \\\n",
       "0        69618  Fancy Wheatfield Bakery  1362 Stockton St  San Francisco   \n",
       "1        97975               BREADBELLY   1408 Clement St  San Francisco   \n",
       "2        69487   Hakkasan San Francisco       1 Kearny St  San Francisco   \n",
       "3        91044    Chopsticks Restaurant   4615 Mission St  San Francisco   \n",
       "4        85987                  Tselogs      552 Jones St  San Francisco   \n",
       "\n",
       "  business_state business_postal_code  business_latitude  business_longitude  \\\n",
       "0             CA                94133                NaN                 NaN   \n",
       "1             CA                94118                NaN                 NaN   \n",
       "2             CA                94108                NaN                 NaN   \n",
       "3             CA                94112                NaN                 NaN   \n",
       "4             CA                94102                NaN                 NaN   \n",
       "\n",
       "  business_location  business_phone_number   inspection_id  \\\n",
       "0               NaN                    NaN  69618_20190304   \n",
       "1               NaN           1.415724e+10  97975_20190725   \n",
       "2               NaN                    NaN  69487_20180418   \n",
       "3               NaN                    NaN  91044_20170818   \n",
       "4               NaN                    NaN  85987_20180412   \n",
       "\n",
       "           inspection_date  inspection_score            inspection_type  \\\n",
       "0  2019-03-04T00:00:00.000               NaN                  Complaint   \n",
       "1  2019-07-25T00:00:00.000              96.0      Routine - Unscheduled   \n",
       "2  2018-04-18T00:00:00.000              88.0      Routine - Unscheduled   \n",
       "3  2017-08-18T00:00:00.000               NaN  Non-inspection site visit   \n",
       "4  2018-04-12T00:00:00.000              94.0      Routine - Unscheduled   \n",
       "\n",
       "            violation_id                              violation_description  \\\n",
       "0  69618_20190304_103130           Inadequate sewage or wastewater disposal   \n",
       "1  97975_20190725_103124  Inadequately cleaned or sanitized food contact...   \n",
       "2  69487_20180418_103119  Inadequate and inaccessible handwashing facili...   \n",
       "3                    NaN                                                NaN   \n",
       "4  85987_20180412_103132                           Improper thawing methods   \n",
       "\n",
       "   risk_category  \n",
       "0  Moderate Risk  \n",
       "1  Moderate Risk  \n",
       "2  Moderate Risk  \n",
       "3            NaN  \n",
       "4  Moderate Risk  "
      ]
     },
     "execution_count": 8,
     "metadata": {},
     "output_type": "execute_result"
    }
   ],
   "source": [
    "data.head()"
   ]
  },
  {
   "cell_type": "markdown",
   "metadata": {},
   "source": [
    "## 1 Обработка пропусков в данных"
   ]
  },
  {
   "cell_type": "code",
   "execution_count": 14,
   "metadata": {},
   "outputs": [
    {
     "name": "stdout",
     "output_type": "stream",
     "text": [
      "Удалено колонок: 9\n"
     ]
    }
   ],
   "source": [
    "# Удаление колонок, содержащих пустые значения\n",
    "data_new_1 = data.dropna(axis=1, how='any')\n",
    "(data.shape, data_new_1.shape)\n",
    "print(f'Удалено колонок: {data.shape[1] - data_new_1.shape[1]}')"
   ]
  },
  {
   "cell_type": "code",
   "execution_count": 13,
   "metadata": {},
   "outputs": [
    {
     "name": "stdout",
     "output_type": "stream",
     "text": [
      "Удалено строк: 48262\n"
     ]
    }
   ],
   "source": [
    "# Удаление строк, содержащих пустые значения\n",
    "data_new_2 = data.dropna(axis=0, how='any')\n",
    "(data.shape, data_new_2.shape)\n",
    "print(f'Удалено строк: {data.shape[0] - data_new_2.shape[0]}')"
   ]
  },
  {
   "cell_type": "markdown",
   "metadata": {},
   "source": [
    "### 1.1 Обработка пропусков в числовых данных"
   ]
  },
  {
   "cell_type": "code",
   "execution_count": 16,
   "metadata": {},
   "outputs": [
    {
     "name": "stdout",
     "output_type": "stream",
     "text": [
      "Колонка business_latitude. Тип данных float64. Количество пустых значений 24095, 44.64%.\n",
      "Колонка business_longitude. Тип данных float64. Количество пустых значений 24095, 44.64%.\n",
      "Колонка business_phone_number. Тип данных float64. Количество пустых значений 36539, 67.7%.\n",
      "Колонка inspection_score. Тип данных float64. Количество пустых значений 14114, 26.15%.\n"
     ]
    }
   ],
   "source": [
    "rows_count = data.shape[0]\n",
    "num_cols = []\n",
    "for col in data.columns:\n",
    "    # Количество пустых значений \n",
    "    temp_null_count = data[data[col].isnull()].shape[0]\n",
    "    dt = str(data[col].dtype)\n",
    "    if temp_null_count > 0 and (dt=='float64' or dt=='int64'):\n",
    "        num_cols.append(col)\n",
    "        temp_perc = round((temp_null_count / rows_count) * 100.0, 2)\n",
    "        print('Колонка {}. Тип данных {}. Количество пустых значений {}, {}%.'.format(col, dt, temp_null_count, temp_perc))"
   ]
  },
  {
   "cell_type": "code",
   "execution_count": 19,
   "metadata": {},
   "outputs": [
    {
     "data": {
      "text/html": [
       "<div>\n",
       "<style scoped>\n",
       "    .dataframe tbody tr th:only-of-type {\n",
       "        vertical-align: middle;\n",
       "    }\n",
       "\n",
       "    .dataframe tbody tr th {\n",
       "        vertical-align: top;\n",
       "    }\n",
       "\n",
       "    .dataframe thead th {\n",
       "        text-align: right;\n",
       "    }\n",
       "</style>\n",
       "<table border=\"1\" class=\"dataframe\">\n",
       "  <thead>\n",
       "    <tr style=\"text-align: right;\">\n",
       "      <th></th>\n",
       "      <th>business_latitude</th>\n",
       "      <th>business_longitude</th>\n",
       "      <th>business_phone_number</th>\n",
       "      <th>inspection_score</th>\n",
       "    </tr>\n",
       "  </thead>\n",
       "  <tbody>\n",
       "    <tr>\n",
       "      <th>0</th>\n",
       "      <td>NaN</td>\n",
       "      <td>NaN</td>\n",
       "      <td>NaN</td>\n",
       "      <td>NaN</td>\n",
       "    </tr>\n",
       "    <tr>\n",
       "      <th>1</th>\n",
       "      <td>NaN</td>\n",
       "      <td>NaN</td>\n",
       "      <td>1.415724e+10</td>\n",
       "      <td>96.0</td>\n",
       "    </tr>\n",
       "    <tr>\n",
       "      <th>2</th>\n",
       "      <td>NaN</td>\n",
       "      <td>NaN</td>\n",
       "      <td>NaN</td>\n",
       "      <td>88.0</td>\n",
       "    </tr>\n",
       "    <tr>\n",
       "      <th>3</th>\n",
       "      <td>NaN</td>\n",
       "      <td>NaN</td>\n",
       "      <td>NaN</td>\n",
       "      <td>NaN</td>\n",
       "    </tr>\n",
       "    <tr>\n",
       "      <th>4</th>\n",
       "      <td>NaN</td>\n",
       "      <td>NaN</td>\n",
       "      <td>NaN</td>\n",
       "      <td>94.0</td>\n",
       "    </tr>\n",
       "    <tr>\n",
       "      <th>...</th>\n",
       "      <td>...</td>\n",
       "      <td>...</td>\n",
       "      <td>...</td>\n",
       "      <td>...</td>\n",
       "    </tr>\n",
       "    <tr>\n",
       "      <th>53968</th>\n",
       "      <td>NaN</td>\n",
       "      <td>NaN</td>\n",
       "      <td>1.415596e+10</td>\n",
       "      <td>94.0</td>\n",
       "    </tr>\n",
       "    <tr>\n",
       "      <th>53969</th>\n",
       "      <td>NaN</td>\n",
       "      <td>NaN</td>\n",
       "      <td>NaN</td>\n",
       "      <td>75.0</td>\n",
       "    </tr>\n",
       "    <tr>\n",
       "      <th>53970</th>\n",
       "      <td>NaN</td>\n",
       "      <td>NaN</td>\n",
       "      <td>1.415530e+10</td>\n",
       "      <td>84.0</td>\n",
       "    </tr>\n",
       "    <tr>\n",
       "      <th>53971</th>\n",
       "      <td>NaN</td>\n",
       "      <td>NaN</td>\n",
       "      <td>1.415544e+10</td>\n",
       "      <td>83.0</td>\n",
       "    </tr>\n",
       "    <tr>\n",
       "      <th>53972</th>\n",
       "      <td>NaN</td>\n",
       "      <td>NaN</td>\n",
       "      <td>1.415551e+10</td>\n",
       "      <td>NaN</td>\n",
       "    </tr>\n",
       "  </tbody>\n",
       "</table>\n",
       "<p>53973 rows × 4 columns</p>\n",
       "</div>"
      ],
      "text/plain": [
       "       business_latitude  business_longitude  business_phone_number  \\\n",
       "0                    NaN                 NaN                    NaN   \n",
       "1                    NaN                 NaN           1.415724e+10   \n",
       "2                    NaN                 NaN                    NaN   \n",
       "3                    NaN                 NaN                    NaN   \n",
       "4                    NaN                 NaN                    NaN   \n",
       "...                  ...                 ...                    ...   \n",
       "53968                NaN                 NaN           1.415596e+10   \n",
       "53969                NaN                 NaN                    NaN   \n",
       "53970                NaN                 NaN           1.415530e+10   \n",
       "53971                NaN                 NaN           1.415544e+10   \n",
       "53972                NaN                 NaN           1.415551e+10   \n",
       "\n",
       "       inspection_score  \n",
       "0                   NaN  \n",
       "1                  96.0  \n",
       "2                  88.0  \n",
       "3                   NaN  \n",
       "4                  94.0  \n",
       "...                 ...  \n",
       "53968              94.0  \n",
       "53969              75.0  \n",
       "53970              84.0  \n",
       "53971              83.0  \n",
       "53972               NaN  \n",
       "\n",
       "[53973 rows x 4 columns]"
      ]
     },
     "execution_count": 19,
     "metadata": {},
     "output_type": "execute_result"
    }
   ],
   "source": [
    "# Фильтр по колонкам с пропущенными значениями\n",
    "data_num = data[num_cols]\n",
    "data_num"
   ]
  },
  {
   "cell_type": "code",
   "execution_count": 23,
   "metadata": {},
   "outputs": [
    {
     "data": {
      "image/png": "[encoded data removed]",
      "text/plain": [
       "<Figure size 432x288 with 1 Axes>"
      ]
     },
     "metadata": {},
     "output_type": "display_data"
    },
    {
     "data": {
      "image/png": "[encoded data removed]",
      "text/plain": [
       "<Figure size 432x288 with 1 Axes>"
      ]
     },
     "metadata": {},
     "output_type": "display_data"
    },
    {
     "data": {
      "image/png": "[encoded data removed]",
      "text/plain": [
       "<Figure size 432x288 with 1 Axes>"
      ]
     },
     "metadata": {},
     "output_type": "display_data"
    },
    {
     "data": {
      "image/png": "[encoded data removed]",
      "text/plain": [
       "<Figure size 432x288 with 1 Axes>"
      ]
     },
     "metadata": {},
     "output_type": "display_data"
    }
   ],
   "source": [
    "# Гистограмма по признакам\n",
    "for col in data_num:\n",
    "    plt.hist(data[col], 50)\n",
    "    plt.xlabel(col)\n",
    "    plt.show()"
   ]
  },
  {
   "cell_type": "code",
   "execution_count": 27,
   "metadata": {},
   "outputs": [
    {
     "data": {
      "text/html": [
       "<div>\n",
       "<style scoped>\n",
       "    .dataframe tbody tr th:only-of-type {\n",
       "        vertical-align: middle;\n",
       "    }\n",
       "\n",
       "    .dataframe tbody tr th {\n",
       "        vertical-align: top;\n",
       "    }\n",
       "\n",
       "    .dataframe thead th {\n",
       "        text-align: right;\n",
       "    }\n",
       "</style>\n",
       "<table border=\"1\" class=\"dataframe\">\n",
       "  <thead>\n",
       "    <tr style=\"text-align: right;\">\n",
       "      <th></th>\n",
       "      <th>business_id</th>\n",
       "      <th>business_name</th>\n",
       "      <th>business_address</th>\n",
       "      <th>business_city</th>\n",
       "      <th>business_state</th>\n",
       "      <th>business_postal_code</th>\n",
       "      <th>business_latitude</th>\n",
       "      <th>business_longitude</th>\n",
       "      <th>business_location</th>\n",
       "      <th>business_phone_number</th>\n",
       "      <th>inspection_id</th>\n",
       "      <th>inspection_date</th>\n",
       "      <th>inspection_score</th>\n",
       "      <th>inspection_type</th>\n",
       "      <th>violation_id</th>\n",
       "      <th>violation_description</th>\n",
       "      <th>risk_category</th>\n",
       "    </tr>\n",
       "  </thead>\n",
       "  <tbody>\n",
       "    <tr>\n",
       "      <th>0</th>\n",
       "      <td>69618</td>\n",
       "      <td>Fancy Wheatfield Bakery</td>\n",
       "      <td>1362 Stockton St</td>\n",
       "      <td>San Francisco</td>\n",
       "      <td>CA</td>\n",
       "      <td>94133</td>\n",
       "      <td>NaN</td>\n",
       "      <td>NaN</td>\n",
       "      <td>NaN</td>\n",
       "      <td>NaN</td>\n",
       "      <td>69618_20190304</td>\n",
       "      <td>2019-03-04T00:00:00.000</td>\n",
       "      <td>NaN</td>\n",
       "      <td>Complaint</td>\n",
       "      <td>69618_20190304_103130</td>\n",
       "      <td>Inadequate sewage or wastewater disposal</td>\n",
       "      <td>Moderate Risk</td>\n",
       "    </tr>\n",
       "    <tr>\n",
       "      <th>3</th>\n",
       "      <td>91044</td>\n",
       "      <td>Chopsticks Restaurant</td>\n",
       "      <td>4615 Mission St</td>\n",
       "      <td>San Francisco</td>\n",
       "      <td>CA</td>\n",
       "      <td>94112</td>\n",
       "      <td>NaN</td>\n",
       "      <td>NaN</td>\n",
       "      <td>NaN</td>\n",
       "      <td>NaN</td>\n",
       "      <td>91044_20170818</td>\n",
       "      <td>2017-08-18T00:00:00.000</td>\n",
       "      <td>NaN</td>\n",
       "      <td>Non-inspection site visit</td>\n",
       "      <td>NaN</td>\n",
       "      <td>NaN</td>\n",
       "      <td>NaN</td>\n",
       "    </tr>\n",
       "    <tr>\n",
       "      <th>5</th>\n",
       "      <td>96024</td>\n",
       "      <td>Fig &amp; Thistle Market</td>\n",
       "      <td>691 14th St</td>\n",
       "      <td>San Francisco</td>\n",
       "      <td>CA</td>\n",
       "      <td>94114</td>\n",
       "      <td>NaN</td>\n",
       "      <td>NaN</td>\n",
       "      <td>NaN</td>\n",
       "      <td>NaN</td>\n",
       "      <td>96024_20181108</td>\n",
       "      <td>2018-11-08T00:00:00.000</td>\n",
       "      <td>NaN</td>\n",
       "      <td>New Ownership - Followup</td>\n",
       "      <td>NaN</td>\n",
       "      <td>NaN</td>\n",
       "      <td>NaN</td>\n",
       "    </tr>\n",
       "    <tr>\n",
       "      <th>6</th>\n",
       "      <td>97503</td>\n",
       "      <td>Moscone South Main Kitchen</td>\n",
       "      <td>747 Howard St</td>\n",
       "      <td>San Francisco</td>\n",
       "      <td>CA</td>\n",
       "      <td>94103</td>\n",
       "      <td>NaN</td>\n",
       "      <td>NaN</td>\n",
       "      <td>NaN</td>\n",
       "      <td>NaN</td>\n",
       "      <td>97503_20180911</td>\n",
       "      <td>2018-09-11T00:00:00.000</td>\n",
       "      <td>NaN</td>\n",
       "      <td>New Ownership</td>\n",
       "      <td>NaN</td>\n",
       "      <td>NaN</td>\n",
       "      <td>NaN</td>\n",
       "    </tr>\n",
       "    <tr>\n",
       "      <th>7</th>\n",
       "      <td>97748</td>\n",
       "      <td>FISTFUL OF TACOS</td>\n",
       "      <td>201 Harrison St Unit C-2</td>\n",
       "      <td>San Francisco</td>\n",
       "      <td>CA</td>\n",
       "      <td>94105</td>\n",
       "      <td>NaN</td>\n",
       "      <td>NaN</td>\n",
       "      <td>NaN</td>\n",
       "      <td>1.415046e+10</td>\n",
       "      <td>97748_20180821</td>\n",
       "      <td>2018-08-21T00:00:00.000</td>\n",
       "      <td>NaN</td>\n",
       "      <td>Reinspection/Followup</td>\n",
       "      <td>NaN</td>\n",
       "      <td>NaN</td>\n",
       "      <td>NaN</td>\n",
       "    </tr>\n",
       "    <tr>\n",
       "      <th>...</th>\n",
       "      <td>...</td>\n",
       "      <td>...</td>\n",
       "      <td>...</td>\n",
       "      <td>...</td>\n",
       "      <td>...</td>\n",
       "      <td>...</td>\n",
       "      <td>...</td>\n",
       "      <td>...</td>\n",
       "      <td>...</td>\n",
       "      <td>...</td>\n",
       "      <td>...</td>\n",
       "      <td>...</td>\n",
       "      <td>...</td>\n",
       "      <td>...</td>\n",
       "      <td>...</td>\n",
       "      <td>...</td>\n",
       "      <td>...</td>\n",
       "    </tr>\n",
       "    <tr>\n",
       "      <th>53955</th>\n",
       "      <td>94521</td>\n",
       "      <td>Joe &amp; The Juice Howard</td>\n",
       "      <td>301 Howard St</td>\n",
       "      <td>San Francisco</td>\n",
       "      <td>CA</td>\n",
       "      <td>94105</td>\n",
       "      <td>NaN</td>\n",
       "      <td>NaN</td>\n",
       "      <td>NaN</td>\n",
       "      <td>NaN</td>\n",
       "      <td>94521_20190509</td>\n",
       "      <td>2019-05-09T00:00:00.000</td>\n",
       "      <td>NaN</td>\n",
       "      <td>Reinspection/Followup</td>\n",
       "      <td>NaN</td>\n",
       "      <td>NaN</td>\n",
       "      <td>NaN</td>\n",
       "    </tr>\n",
       "    <tr>\n",
       "      <th>53957</th>\n",
       "      <td>81789</td>\n",
       "      <td>Koja Kitchen Truck</td>\n",
       "      <td>Off The Grid</td>\n",
       "      <td>San Francisco</td>\n",
       "      <td>CA</td>\n",
       "      <td>NaN</td>\n",
       "      <td>NaN</td>\n",
       "      <td>NaN</td>\n",
       "      <td>NaN</td>\n",
       "      <td>NaN</td>\n",
       "      <td>81789_20190501</td>\n",
       "      <td>2019-05-01T00:00:00.000</td>\n",
       "      <td>NaN</td>\n",
       "      <td>Structural Inspection</td>\n",
       "      <td>NaN</td>\n",
       "      <td>NaN</td>\n",
       "      <td>NaN</td>\n",
       "    </tr>\n",
       "    <tr>\n",
       "      <th>53958</th>\n",
       "      <td>98279</td>\n",
       "      <td>LITTLE GEM</td>\n",
       "      <td>2184 UNION ST</td>\n",
       "      <td>San Francisco</td>\n",
       "      <td>CA</td>\n",
       "      <td>94123</td>\n",
       "      <td>NaN</td>\n",
       "      <td>NaN</td>\n",
       "      <td>NaN</td>\n",
       "      <td>1.415729e+10</td>\n",
       "      <td>98279_20190311</td>\n",
       "      <td>2019-03-11T00:00:00.000</td>\n",
       "      <td>NaN</td>\n",
       "      <td>New Ownership</td>\n",
       "      <td>NaN</td>\n",
       "      <td>NaN</td>\n",
       "      <td>NaN</td>\n",
       "    </tr>\n",
       "    <tr>\n",
       "      <th>53961</th>\n",
       "      <td>99249</td>\n",
       "      <td>BLACK SANDS BREWERY</td>\n",
       "      <td>701 HAIGHT ST</td>\n",
       "      <td>San Francisco</td>\n",
       "      <td>CA</td>\n",
       "      <td>94117</td>\n",
       "      <td>NaN</td>\n",
       "      <td>NaN</td>\n",
       "      <td>NaN</td>\n",
       "      <td>NaN</td>\n",
       "      <td>99249_20190503</td>\n",
       "      <td>2019-05-03T00:00:00.000</td>\n",
       "      <td>NaN</td>\n",
       "      <td>Non-inspection site visit</td>\n",
       "      <td>NaN</td>\n",
       "      <td>NaN</td>\n",
       "      <td>NaN</td>\n",
       "    </tr>\n",
       "    <tr>\n",
       "      <th>53972</th>\n",
       "      <td>77681</td>\n",
       "      <td>Tart To Tart Inc.</td>\n",
       "      <td>641 Irving St</td>\n",
       "      <td>San Francisco</td>\n",
       "      <td>CA</td>\n",
       "      <td>94122</td>\n",
       "      <td>NaN</td>\n",
       "      <td>NaN</td>\n",
       "      <td>NaN</td>\n",
       "      <td>1.415551e+10</td>\n",
       "      <td>77681_20190411</td>\n",
       "      <td>2019-04-11T00:00:00.000</td>\n",
       "      <td>NaN</td>\n",
       "      <td>Reinspection/Followup</td>\n",
       "      <td>NaN</td>\n",
       "      <td>NaN</td>\n",
       "      <td>NaN</td>\n",
       "    </tr>\n",
       "  </tbody>\n",
       "</table>\n",
       "<p>14114 rows × 17 columns</p>\n",
       "</div>"
      ],
      "text/plain": [
       "       business_id               business_name          business_address  \\\n",
       "0            69618     Fancy Wheatfield Bakery          1362 Stockton St   \n",
       "3            91044       Chopsticks Restaurant           4615 Mission St   \n",
       "5            96024        Fig & Thistle Market               691 14th St   \n",
       "6            97503  Moscone South Main Kitchen             747 Howard St   \n",
       "7            97748            FISTFUL OF TACOS  201 Harrison St Unit C-2   \n",
       "...            ...                         ...                       ...   \n",
       "53955        94521      Joe & The Juice Howard             301 Howard St   \n",
       "53957        81789          Koja Kitchen Truck              Off The Grid   \n",
       "53958        98279                  LITTLE GEM             2184 UNION ST   \n",
       "53961        99249         BLACK SANDS BREWERY             701 HAIGHT ST   \n",
       "53972        77681           Tart To Tart Inc.             641 Irving St   \n",
       "\n",
       "       business_city business_state business_postal_code  business_latitude  \\\n",
       "0      San Francisco             CA                94133                NaN   \n",
       "3      San Francisco             CA                94112                NaN   \n",
       "5      San Francisco             CA                94114                NaN   \n",
       "6      San Francisco             CA                94103                NaN   \n",
       "7      San Francisco             CA                94105                NaN   \n",
       "...              ...            ...                  ...                ...   \n",
       "53955  San Francisco             CA                94105                NaN   \n",
       "53957  San Francisco             CA                  NaN                NaN   \n",
       "53958  San Francisco             CA                94123                NaN   \n",
       "53961  San Francisco             CA                94117                NaN   \n",
       "53972  San Francisco             CA                94122                NaN   \n",
       "\n",
       "       business_longitude business_location  business_phone_number  \\\n",
       "0                     NaN               NaN                    NaN   \n",
       "3                     NaN               NaN                    NaN   \n",
       "5                     NaN               NaN                    NaN   \n",
       "6                     NaN               NaN                    NaN   \n",
       "7                     NaN               NaN           1.415046e+10   \n",
       "...                   ...               ...                    ...   \n",
       "53955                 NaN               NaN                    NaN   \n",
       "53957                 NaN               NaN                    NaN   \n",
       "53958                 NaN               NaN           1.415729e+10   \n",
       "53961                 NaN               NaN                    NaN   \n",
       "53972                 NaN               NaN           1.415551e+10   \n",
       "\n",
       "        inspection_id          inspection_date  inspection_score  \\\n",
       "0      69618_20190304  2019-03-04T00:00:00.000               NaN   \n",
       "3      91044_20170818  2017-08-18T00:00:00.000               NaN   \n",
       "5      96024_20181108  2018-11-08T00:00:00.000               NaN   \n",
       "6      97503_20180911  2018-09-11T00:00:00.000               NaN   \n",
       "7      97748_20180821  2018-08-21T00:00:00.000               NaN   \n",
       "...               ...                      ...               ...   \n",
       "53955  94521_20190509  2019-05-09T00:00:00.000               NaN   \n",
       "53957  81789_20190501  2019-05-01T00:00:00.000               NaN   \n",
       "53958  98279_20190311  2019-03-11T00:00:00.000               NaN   \n",
       "53961  99249_20190503  2019-05-03T00:00:00.000               NaN   \n",
       "53972  77681_20190411  2019-04-11T00:00:00.000               NaN   \n",
       "\n",
       "                 inspection_type           violation_id  \\\n",
       "0                      Complaint  69618_20190304_103130   \n",
       "3      Non-inspection site visit                    NaN   \n",
       "5       New Ownership - Followup                    NaN   \n",
       "6                  New Ownership                    NaN   \n",
       "7          Reinspection/Followup                    NaN   \n",
       "...                          ...                    ...   \n",
       "53955      Reinspection/Followup                    NaN   \n",
       "53957      Structural Inspection                    NaN   \n",
       "53958              New Ownership                    NaN   \n",
       "53961  Non-inspection site visit                    NaN   \n",
       "53972      Reinspection/Followup                    NaN   \n",
       "\n",
       "                          violation_description  risk_category  \n",
       "0      Inadequate sewage or wastewater disposal  Moderate Risk  \n",
       "3                                           NaN            NaN  \n",
       "5                                           NaN            NaN  \n",
       "6                                           NaN            NaN  \n",
       "7                                           NaN            NaN  \n",
       "...                                         ...            ...  \n",
       "53955                                       NaN            NaN  \n",
       "53957                                       NaN            NaN  \n",
       "53958                                       NaN            NaN  \n",
       "53961                                       NaN            NaN  \n",
       "53972                                       NaN            NaN  \n",
       "\n",
       "[14114 rows x 17 columns]"
      ]
     },
     "execution_count": 27,
     "metadata": {},
     "output_type": "execute_result"
    }
   ],
   "source": [
    "# Фильтр по пустым значениям поля inspection_score \n",
    "data[data['inspection_score'].isnull()]"
   ]
  },
  {
   "cell_type": "code",
   "execution_count": 25,
   "metadata": {},
   "outputs": [
    {
     "data": {
      "text/plain": [
       "Int64Index([    0,     3,     5,     6,     7,    10,    11,    13,    14,\n",
       "               15,\n",
       "            ...\n",
       "            53932, 53936, 53941, 53945, 53950, 53955, 53957, 53958, 53961,\n",
       "            53972],\n",
       "           dtype='int64', length=14114)"
      ]
     },
     "execution_count": 25,
     "metadata": {},
     "output_type": "execute_result"
    }
   ],
   "source": [
    "# Запоминаем индексы строк с пустыми значениями\n",
    "flt_index = data[data['inspection_score'].isnull()].index\n",
    "flt_index"
   ]
  },
  {
   "cell_type": "code",
   "execution_count": 26,
   "metadata": {},
   "outputs": [
    {
     "data": {
      "text/html": [
       "<div>\n",
       "<style scoped>\n",
       "    .dataframe tbody tr th:only-of-type {\n",
       "        vertical-align: middle;\n",
       "    }\n",
       "\n",
       "    .dataframe tbody tr th {\n",
       "        vertical-align: top;\n",
       "    }\n",
       "\n",
       "    .dataframe thead th {\n",
       "        text-align: right;\n",
       "    }\n",
       "</style>\n",
       "<table border=\"1\" class=\"dataframe\">\n",
       "  <thead>\n",
       "    <tr style=\"text-align: right;\">\n",
       "      <th></th>\n",
       "      <th>business_id</th>\n",
       "      <th>business_name</th>\n",
       "      <th>business_address</th>\n",
       "      <th>business_city</th>\n",
       "      <th>business_state</th>\n",
       "      <th>business_postal_code</th>\n",
       "      <th>business_latitude</th>\n",
       "      <th>business_longitude</th>\n",
       "      <th>business_location</th>\n",
       "      <th>business_phone_number</th>\n",
       "      <th>inspection_id</th>\n",
       "      <th>inspection_date</th>\n",
       "      <th>inspection_score</th>\n",
       "      <th>inspection_type</th>\n",
       "      <th>violation_id</th>\n",
       "      <th>violation_description</th>\n",
       "      <th>risk_category</th>\n",
       "    </tr>\n",
       "  </thead>\n",
       "  <tbody>\n",
       "    <tr>\n",
       "      <th>0</th>\n",
       "      <td>69618</td>\n",
       "      <td>Fancy Wheatfield Bakery</td>\n",
       "      <td>1362 Stockton St</td>\n",
       "      <td>San Francisco</td>\n",
       "      <td>CA</td>\n",
       "      <td>94133</td>\n",
       "      <td>NaN</td>\n",
       "      <td>NaN</td>\n",
       "      <td>NaN</td>\n",
       "      <td>NaN</td>\n",
       "      <td>69618_20190304</td>\n",
       "      <td>2019-03-04T00:00:00.000</td>\n",
       "      <td>NaN</td>\n",
       "      <td>Complaint</td>\n",
       "      <td>69618_20190304_103130</td>\n",
       "      <td>Inadequate sewage or wastewater disposal</td>\n",
       "      <td>Moderate Risk</td>\n",
       "    </tr>\n",
       "    <tr>\n",
       "      <th>3</th>\n",
       "      <td>91044</td>\n",
       "      <td>Chopsticks Restaurant</td>\n",
       "      <td>4615 Mission St</td>\n",
       "      <td>San Francisco</td>\n",
       "      <td>CA</td>\n",
       "      <td>94112</td>\n",
       "      <td>NaN</td>\n",
       "      <td>NaN</td>\n",
       "      <td>NaN</td>\n",
       "      <td>NaN</td>\n",
       "      <td>91044_20170818</td>\n",
       "      <td>2017-08-18T00:00:00.000</td>\n",
       "      <td>NaN</td>\n",
       "      <td>Non-inspection site visit</td>\n",
       "      <td>NaN</td>\n",
       "      <td>NaN</td>\n",
       "      <td>NaN</td>\n",
       "    </tr>\n",
       "    <tr>\n",
       "      <th>5</th>\n",
       "      <td>96024</td>\n",
       "      <td>Fig &amp; Thistle Market</td>\n",
       "      <td>691 14th St</td>\n",
       "      <td>San Francisco</td>\n",
       "      <td>CA</td>\n",
       "      <td>94114</td>\n",
       "      <td>NaN</td>\n",
       "      <td>NaN</td>\n",
       "      <td>NaN</td>\n",
       "      <td>NaN</td>\n",
       "      <td>96024_20181108</td>\n",
       "      <td>2018-11-08T00:00:00.000</td>\n",
       "      <td>NaN</td>\n",
       "      <td>New Ownership - Followup</td>\n",
       "      <td>NaN</td>\n",
       "      <td>NaN</td>\n",
       "      <td>NaN</td>\n",
       "    </tr>\n",
       "    <tr>\n",
       "      <th>6</th>\n",
       "      <td>97503</td>\n",
       "      <td>Moscone South Main Kitchen</td>\n",
       "      <td>747 Howard St</td>\n",
       "      <td>San Francisco</td>\n",
       "      <td>CA</td>\n",
       "      <td>94103</td>\n",
       "      <td>NaN</td>\n",
       "      <td>NaN</td>\n",
       "      <td>NaN</td>\n",
       "      <td>NaN</td>\n",
       "      <td>97503_20180911</td>\n",
       "      <td>2018-09-11T00:00:00.000</td>\n",
       "      <td>NaN</td>\n",
       "      <td>New Ownership</td>\n",
       "      <td>NaN</td>\n",
       "      <td>NaN</td>\n",
       "      <td>NaN</td>\n",
       "    </tr>\n",
       "    <tr>\n",
       "      <th>7</th>\n",
       "      <td>97748</td>\n",
       "      <td>FISTFUL OF TACOS</td>\n",
       "      <td>201 Harrison St Unit C-2</td>\n",
       "      <td>San Francisco</td>\n",
       "      <td>CA</td>\n",
       "      <td>94105</td>\n",
       "      <td>NaN</td>\n",
       "      <td>NaN</td>\n",
       "      <td>NaN</td>\n",
       "      <td>1.415046e+10</td>\n",
       "      <td>97748_20180821</td>\n",
       "      <td>2018-08-21T00:00:00.000</td>\n",
       "      <td>NaN</td>\n",
       "      <td>Reinspection/Followup</td>\n",
       "      <td>NaN</td>\n",
       "      <td>NaN</td>\n",
       "      <td>NaN</td>\n",
       "    </tr>\n",
       "    <tr>\n",
       "      <th>...</th>\n",
       "      <td>...</td>\n",
       "      <td>...</td>\n",
       "      <td>...</td>\n",
       "      <td>...</td>\n",
       "      <td>...</td>\n",
       "      <td>...</td>\n",
       "      <td>...</td>\n",
       "      <td>...</td>\n",
       "      <td>...</td>\n",
       "      <td>...</td>\n",
       "      <td>...</td>\n",
       "      <td>...</td>\n",
       "      <td>...</td>\n",
       "      <td>...</td>\n",
       "      <td>...</td>\n",
       "      <td>...</td>\n",
       "      <td>...</td>\n",
       "    </tr>\n",
       "    <tr>\n",
       "      <th>53955</th>\n",
       "      <td>94521</td>\n",
       "      <td>Joe &amp; The Juice Howard</td>\n",
       "      <td>301 Howard St</td>\n",
       "      <td>San Francisco</td>\n",
       "      <td>CA</td>\n",
       "      <td>94105</td>\n",
       "      <td>NaN</td>\n",
       "      <td>NaN</td>\n",
       "      <td>NaN</td>\n",
       "      <td>NaN</td>\n",
       "      <td>94521_20190509</td>\n",
       "      <td>2019-05-09T00:00:00.000</td>\n",
       "      <td>NaN</td>\n",
       "      <td>Reinspection/Followup</td>\n",
       "      <td>NaN</td>\n",
       "      <td>NaN</td>\n",
       "      <td>NaN</td>\n",
       "    </tr>\n",
       "    <tr>\n",
       "      <th>53957</th>\n",
       "      <td>81789</td>\n",
       "      <td>Koja Kitchen Truck</td>\n",
       "      <td>Off The Grid</td>\n",
       "      <td>San Francisco</td>\n",
       "      <td>CA</td>\n",
       "      <td>NaN</td>\n",
       "      <td>NaN</td>\n",
       "      <td>NaN</td>\n",
       "      <td>NaN</td>\n",
       "      <td>NaN</td>\n",
       "      <td>81789_20190501</td>\n",
       "      <td>2019-05-01T00:00:00.000</td>\n",
       "      <td>NaN</td>\n",
       "      <td>Structural Inspection</td>\n",
       "      <td>NaN</td>\n",
       "      <td>NaN</td>\n",
       "      <td>NaN</td>\n",
       "    </tr>\n",
       "    <tr>\n",
       "      <th>53958</th>\n",
       "      <td>98279</td>\n",
       "      <td>LITTLE GEM</td>\n",
       "      <td>2184 UNION ST</td>\n",
       "      <td>San Francisco</td>\n",
       "      <td>CA</td>\n",
       "      <td>94123</td>\n",
       "      <td>NaN</td>\n",
       "      <td>NaN</td>\n",
       "      <td>NaN</td>\n",
       "      <td>1.415729e+10</td>\n",
       "      <td>98279_20190311</td>\n",
       "      <td>2019-03-11T00:00:00.000</td>\n",
       "      <td>NaN</td>\n",
       "      <td>New Ownership</td>\n",
       "      <td>NaN</td>\n",
       "      <td>NaN</td>\n",
       "      <td>NaN</td>\n",
       "    </tr>\n",
       "    <tr>\n",
       "      <th>53961</th>\n",
       "      <td>99249</td>\n",
       "      <td>BLACK SANDS BREWERY</td>\n",
       "      <td>701 HAIGHT ST</td>\n",
       "      <td>San Francisco</td>\n",
       "      <td>CA</td>\n",
       "      <td>94117</td>\n",
       "      <td>NaN</td>\n",
       "      <td>NaN</td>\n",
       "      <td>NaN</td>\n",
       "      <td>NaN</td>\n",
       "      <td>99249_20190503</td>\n",
       "      <td>2019-05-03T00:00:00.000</td>\n",
       "      <td>NaN</td>\n",
       "      <td>Non-inspection site visit</td>\n",
       "      <td>NaN</td>\n",
       "      <td>NaN</td>\n",
       "      <td>NaN</td>\n",
       "    </tr>\n",
       "    <tr>\n",
       "      <th>53972</th>\n",
       "      <td>77681</td>\n",
       "      <td>Tart To Tart Inc.</td>\n",
       "      <td>641 Irving St</td>\n",
       "      <td>San Francisco</td>\n",
       "      <td>CA</td>\n",
       "      <td>94122</td>\n",
       "      <td>NaN</td>\n",
       "      <td>NaN</td>\n",
       "      <td>NaN</td>\n",
       "      <td>1.415551e+10</td>\n",
       "      <td>77681_20190411</td>\n",
       "      <td>2019-04-11T00:00:00.000</td>\n",
       "      <td>NaN</td>\n",
       "      <td>Reinspection/Followup</td>\n",
       "      <td>NaN</td>\n",
       "      <td>NaN</td>\n",
       "      <td>NaN</td>\n",
       "    </tr>\n",
       "  </tbody>\n",
       "</table>\n",
       "<p>14114 rows × 17 columns</p>\n",
       "</div>"
      ],
      "text/plain": [
       "       business_id               business_name          business_address  \\\n",
       "0            69618     Fancy Wheatfield Bakery          1362 Stockton St   \n",
       "3            91044       Chopsticks Restaurant           4615 Mission St   \n",
       "5            96024        Fig & Thistle Market               691 14th St   \n",
       "6            97503  Moscone South Main Kitchen             747 Howard St   \n",
       "7            97748            FISTFUL OF TACOS  201 Harrison St Unit C-2   \n",
       "...            ...                         ...                       ...   \n",
       "53955        94521      Joe & The Juice Howard             301 Howard St   \n",
       "53957        81789          Koja Kitchen Truck              Off The Grid   \n",
       "53958        98279                  LITTLE GEM             2184 UNION ST   \n",
       "53961        99249         BLACK SANDS BREWERY             701 HAIGHT ST   \n",
       "53972        77681           Tart To Tart Inc.             641 Irving St   \n",
       "\n",
       "       business_city business_state business_postal_code  business_latitude  \\\n",
       "0      San Francisco             CA                94133                NaN   \n",
       "3      San Francisco             CA                94112                NaN   \n",
       "5      San Francisco             CA                94114                NaN   \n",
       "6      San Francisco             CA                94103                NaN   \n",
       "7      San Francisco             CA                94105                NaN   \n",
       "...              ...            ...                  ...                ...   \n",
       "53955  San Francisco             CA                94105                NaN   \n",
       "53957  San Francisco             CA                  NaN                NaN   \n",
       "53958  San Francisco             CA                94123                NaN   \n",
       "53961  San Francisco             CA                94117                NaN   \n",
       "53972  San Francisco             CA                94122                NaN   \n",
       "\n",
       "       business_longitude business_location  business_phone_number  \\\n",
       "0                     NaN               NaN                    NaN   \n",
       "3                     NaN               NaN                    NaN   \n",
       "5                     NaN               NaN                    NaN   \n",
       "6                     NaN               NaN                    NaN   \n",
       "7                     NaN               NaN           1.415046e+10   \n",
       "...                   ...               ...                    ...   \n",
       "53955                 NaN               NaN                    NaN   \n",
       "53957                 NaN               NaN                    NaN   \n",
       "53958                 NaN               NaN           1.415729e+10   \n",
       "53961                 NaN               NaN                    NaN   \n",
       "53972                 NaN               NaN           1.415551e+10   \n",
       "\n",
       "        inspection_id          inspection_date  inspection_score  \\\n",
       "0      69618_20190304  2019-03-04T00:00:00.000               NaN   \n",
       "3      91044_20170818  2017-08-18T00:00:00.000               NaN   \n",
       "5      96024_20181108  2018-11-08T00:00:00.000               NaN   \n",
       "6      97503_20180911  2018-09-11T00:00:00.000               NaN   \n",
       "7      97748_20180821  2018-08-21T00:00:00.000               NaN   \n",
       "...               ...                      ...               ...   \n",
       "53955  94521_20190509  2019-05-09T00:00:00.000               NaN   \n",
       "53957  81789_20190501  2019-05-01T00:00:00.000               NaN   \n",
       "53958  98279_20190311  2019-03-11T00:00:00.000               NaN   \n",
       "53961  99249_20190503  2019-05-03T00:00:00.000               NaN   \n",
       "53972  77681_20190411  2019-04-11T00:00:00.000               NaN   \n",
       "\n",
       "                 inspection_type           violation_id  \\\n",
       "0                      Complaint  69618_20190304_103130   \n",
       "3      Non-inspection site visit                    NaN   \n",
       "5       New Ownership - Followup                    NaN   \n",
       "6                  New Ownership                    NaN   \n",
       "7          Reinspection/Followup                    NaN   \n",
       "...                          ...                    ...   \n",
       "53955      Reinspection/Followup                    NaN   \n",
       "53957      Structural Inspection                    NaN   \n",
       "53958              New Ownership                    NaN   \n",
       "53961  Non-inspection site visit                    NaN   \n",
       "53972      Reinspection/Followup                    NaN   \n",
       "\n",
       "                          violation_description  risk_category  \n",
       "0      Inadequate sewage or wastewater disposal  Moderate Risk  \n",
       "3                                           NaN            NaN  \n",
       "5                                           NaN            NaN  \n",
       "6                                           NaN            NaN  \n",
       "7                                           NaN            NaN  \n",
       "...                                         ...            ...  \n",
       "53955                                       NaN            NaN  \n",
       "53957                                       NaN            NaN  \n",
       "53958                                       NaN            NaN  \n",
       "53961                                       NaN            NaN  \n",
       "53972                                       NaN            NaN  \n",
       "\n",
       "[14114 rows x 17 columns]"
      ]
     },
     "execution_count": 26,
     "metadata": {},
     "output_type": "execute_result"
    }
   ],
   "source": [
    "# Проверяем что выводятся нужные строки\n",
    "data[data.index.isin(flt_index)]"
   ]
  },
  {
   "cell_type": "code",
   "execution_count": 28,
   "metadata": {},
   "outputs": [
    {
     "data": {
      "text/plain": [
       "0       NaN\n",
       "3       NaN\n",
       "5       NaN\n",
       "6       NaN\n",
       "7       NaN\n",
       "         ..\n",
       "53955   NaN\n",
       "53957   NaN\n",
       "53958   NaN\n",
       "53961   NaN\n",
       "53972   NaN\n",
       "Name: inspection_score, Length: 14114, dtype: float64"
      ]
     },
     "execution_count": 28,
     "metadata": {},
     "output_type": "execute_result"
    }
   ],
   "source": [
    "# фильтр по колонке\n",
    "data_num[data_num.index.isin(flt_index)]['inspection_score']"
   ]
  },
  {
   "cell_type": "code",
   "execution_count": 29,
   "metadata": {},
   "outputs": [
    {
     "data": {
      "text/html": [
       "<div>\n",
       "<style scoped>\n",
       "    .dataframe tbody tr th:only-of-type {\n",
       "        vertical-align: middle;\n",
       "    }\n",
       "\n",
       "    .dataframe tbody tr th {\n",
       "        vertical-align: top;\n",
       "    }\n",
       "\n",
       "    .dataframe thead th {\n",
       "        text-align: right;\n",
       "    }\n",
       "</style>\n",
       "<table border=\"1\" class=\"dataframe\">\n",
       "  <thead>\n",
       "    <tr style=\"text-align: right;\">\n",
       "      <th></th>\n",
       "      <th>inspection_score</th>\n",
       "    </tr>\n",
       "  </thead>\n",
       "  <tbody>\n",
       "    <tr>\n",
       "      <th>0</th>\n",
       "      <td>NaN</td>\n",
       "    </tr>\n",
       "    <tr>\n",
       "      <th>1</th>\n",
       "      <td>96.0</td>\n",
       "    </tr>\n",
       "    <tr>\n",
       "      <th>2</th>\n",
       "      <td>88.0</td>\n",
       "    </tr>\n",
       "    <tr>\n",
       "      <th>3</th>\n",
       "      <td>NaN</td>\n",
       "    </tr>\n",
       "    <tr>\n",
       "      <th>4</th>\n",
       "      <td>94.0</td>\n",
       "    </tr>\n",
       "  </tbody>\n",
       "</table>\n",
       "</div>"
      ],
      "text/plain": [
       "   inspection_score\n",
       "0               NaN\n",
       "1              96.0\n",
       "2              88.0\n",
       "3               NaN\n",
       "4              94.0"
      ]
     },
     "execution_count": 29,
     "metadata": {},
     "output_type": "execute_result"
    }
   ],
   "source": [
    "data_num_inspection_score = data_num[['inspection_score']]\n",
    "data_num_inspection_score.head()"
   ]
  },
  {
   "cell_type": "code",
   "execution_count": 30,
   "metadata": {},
   "outputs": [],
   "source": [
    "from sklearn.impute import SimpleImputer\n",
    "from sklearn.impute import MissingIndicator"
   ]
  },
  {
   "cell_type": "code",
   "execution_count": 32,
   "metadata": {},
   "outputs": [
    {
     "data": {
      "text/plain": [
       "array([[ True],\n",
       "       [False],\n",
       "       [False],\n",
       "       ...,\n",
       "       [False],\n",
       "       [False],\n",
       "       [ True]])"
      ]
     },
     "execution_count": 32,
     "metadata": {},
     "output_type": "execute_result"
    }
   ],
   "source": [
    "# Фильтр для проверки заполнения пустых значений\n",
    "indicator = MissingIndicator()\n",
    "mask_missing_values_only = indicator.fit_transform(data_num_inspection_score)\n",
    "mask_missing_values_only"
   ]
  },
  {
   "cell_type": "code",
   "execution_count": 33,
   "metadata": {},
   "outputs": [],
   "source": [
    "strategies=['mean', 'median','most_frequent']"
   ]
  },
  {
   "cell_type": "code",
   "execution_count": 34,
   "metadata": {},
   "outputs": [],
   "source": [
    "def test_num_impute_col(dataset, column, strategy_param):\n",
    "    temp_data = dataset[[column]]\n",
    "    \n",
    "    indicator = MissingIndicator()\n",
    "    mask_missing_values_only = indicator.fit_transform(temp_data)\n",
    "    \n",
    "    imp_num = SimpleImputer(strategy=strategy_param)\n",
    "    data_num_imp = imp_num.fit_transform(temp_data)\n",
    "    \n",
    "    filled_data = data_num_imp[mask_missing_values_only]\n",
    "    \n",
    "    return column, strategy_param, filled_data.size, filled_data[0], filled_data[filled_data.size-1]"
   ]
  },
  {
   "cell_type": "code",
   "execution_count": 63,
   "metadata": {},
   "outputs": [
    {
     "data": {
      "text/html": [
       "<div>\n",
       "<style scoped>\n",
       "    .dataframe tbody tr th:only-of-type {\n",
       "        vertical-align: middle;\n",
       "    }\n",
       "\n",
       "    .dataframe tbody tr th {\n",
       "        vertical-align: top;\n",
       "    }\n",
       "\n",
       "    .dataframe thead th {\n",
       "        text-align: right;\n",
       "    }\n",
       "</style>\n",
       "<table border=\"1\" class=\"dataframe\">\n",
       "  <thead>\n",
       "    <tr style=\"text-align: right;\">\n",
       "      <th></th>\n",
       "      <th>inspection_score</th>\n",
       "    </tr>\n",
       "  </thead>\n",
       "  <tbody>\n",
       "    <tr>\n",
       "      <th>count</th>\n",
       "      <td>39859.000000</td>\n",
       "    </tr>\n",
       "    <tr>\n",
       "      <th>mean</th>\n",
       "      <td>86.235254</td>\n",
       "    </tr>\n",
       "    <tr>\n",
       "      <th>std</th>\n",
       "      <td>8.480003</td>\n",
       "    </tr>\n",
       "    <tr>\n",
       "      <th>min</th>\n",
       "      <td>45.000000</td>\n",
       "    </tr>\n",
       "    <tr>\n",
       "      <th>25%</th>\n",
       "      <td>81.000000</td>\n",
       "    </tr>\n",
       "    <tr>\n",
       "      <th>50%</th>\n",
       "      <td>88.000000</td>\n",
       "    </tr>\n",
       "    <tr>\n",
       "      <th>75%</th>\n",
       "      <td>92.000000</td>\n",
       "    </tr>\n",
       "    <tr>\n",
       "      <th>max</th>\n",
       "      <td>100.000000</td>\n",
       "    </tr>\n",
       "  </tbody>\n",
       "</table>\n",
       "</div>"
      ],
      "text/plain": [
       "       inspection_score\n",
       "count      39859.000000\n",
       "mean          86.235254\n",
       "std            8.480003\n",
       "min           45.000000\n",
       "25%           81.000000\n",
       "50%           88.000000\n",
       "75%           92.000000\n",
       "max          100.000000"
      ]
     },
     "execution_count": 63,
     "metadata": {},
     "output_type": "execute_result"
    }
   ],
   "source": [
    "data[['inspection_score']].describe()"
   ]
  },
  {
   "cell_type": "code",
   "execution_count": 64,
   "metadata": {},
   "outputs": [
    {
     "data": {
      "text/html": [
       "<div>\n",
       "<style scoped>\n",
       "    .dataframe tbody tr th:only-of-type {\n",
       "        vertical-align: middle;\n",
       "    }\n",
       "\n",
       "    .dataframe tbody tr th {\n",
       "        vertical-align: top;\n",
       "    }\n",
       "\n",
       "    .dataframe thead th {\n",
       "        text-align: right;\n",
       "    }\n",
       "</style>\n",
       "<table border=\"1\" class=\"dataframe\">\n",
       "  <thead>\n",
       "    <tr style=\"text-align: right;\">\n",
       "      <th></th>\n",
       "      <th>business_latitude</th>\n",
       "    </tr>\n",
       "  </thead>\n",
       "  <tbody>\n",
       "    <tr>\n",
       "      <th>count</th>\n",
       "      <td>29878.000000</td>\n",
       "    </tr>\n",
       "    <tr>\n",
       "      <th>mean</th>\n",
       "      <td>37.755265</td>\n",
       "    </tr>\n",
       "    <tr>\n",
       "      <th>std</th>\n",
       "      <td>0.788075</td>\n",
       "    </tr>\n",
       "    <tr>\n",
       "      <th>min</th>\n",
       "      <td>0.000000</td>\n",
       "    </tr>\n",
       "    <tr>\n",
       "      <th>25%</th>\n",
       "      <td>37.756771</td>\n",
       "    </tr>\n",
       "    <tr>\n",
       "      <th>50%</th>\n",
       "      <td>37.780174</td>\n",
       "    </tr>\n",
       "    <tr>\n",
       "      <th>75%</th>\n",
       "      <td>37.788882</td>\n",
       "    </tr>\n",
       "    <tr>\n",
       "      <th>max</th>\n",
       "      <td>37.824494</td>\n",
       "    </tr>\n",
       "  </tbody>\n",
       "</table>\n",
       "</div>"
      ],
      "text/plain": [
       "       business_latitude\n",
       "count       29878.000000\n",
       "mean           37.755265\n",
       "std             0.788075\n",
       "min             0.000000\n",
       "25%            37.756771\n",
       "50%            37.780174\n",
       "75%            37.788882\n",
       "max            37.824494"
      ]
     },
     "execution_count": 64,
     "metadata": {},
     "output_type": "execute_result"
    }
   ],
   "source": [
    "data[['business_latitude']].describe()"
   ]
  },
  {
   "cell_type": "code",
   "execution_count": 65,
   "metadata": {},
   "outputs": [
    {
     "data": {
      "text/html": [
       "<div>\n",
       "<style scoped>\n",
       "    .dataframe tbody tr th:only-of-type {\n",
       "        vertical-align: middle;\n",
       "    }\n",
       "\n",
       "    .dataframe tbody tr th {\n",
       "        vertical-align: top;\n",
       "    }\n",
       "\n",
       "    .dataframe thead th {\n",
       "        text-align: right;\n",
       "    }\n",
       "</style>\n",
       "<table border=\"1\" class=\"dataframe\">\n",
       "  <thead>\n",
       "    <tr style=\"text-align: right;\">\n",
       "      <th></th>\n",
       "      <th>business_longitude</th>\n",
       "    </tr>\n",
       "  </thead>\n",
       "  <tbody>\n",
       "    <tr>\n",
       "      <th>count</th>\n",
       "      <td>29878.000000</td>\n",
       "    </tr>\n",
       "    <tr>\n",
       "      <th>mean</th>\n",
       "      <td>-122.373755</td>\n",
       "    </tr>\n",
       "    <tr>\n",
       "      <th>std</th>\n",
       "      <td>2.553357</td>\n",
       "    </tr>\n",
       "    <tr>\n",
       "      <th>min</th>\n",
       "      <td>-122.510896</td>\n",
       "    </tr>\n",
       "    <tr>\n",
       "      <th>25%</th>\n",
       "      <td>-122.437091</td>\n",
       "    </tr>\n",
       "    <tr>\n",
       "      <th>50%</th>\n",
       "      <td>-122.419136</td>\n",
       "    </tr>\n",
       "    <tr>\n",
       "      <th>75%</th>\n",
       "      <td>-122.407417</td>\n",
       "    </tr>\n",
       "    <tr>\n",
       "      <th>max</th>\n",
       "      <td>0.000000</td>\n",
       "    </tr>\n",
       "  </tbody>\n",
       "</table>\n",
       "</div>"
      ],
      "text/plain": [
       "       business_longitude\n",
       "count        29878.000000\n",
       "mean          -122.373755\n",
       "std              2.553357\n",
       "min           -122.510896\n",
       "25%           -122.437091\n",
       "50%           -122.419136\n",
       "75%           -122.407417\n",
       "max              0.000000"
      ]
     },
     "execution_count": 65,
     "metadata": {},
     "output_type": "execute_result"
    }
   ],
   "source": [
    "data[['business_longitude']].describe()"
   ]
  },
  {
   "cell_type": "code",
   "execution_count": 57,
   "metadata": {},
   "outputs": [
    {
     "name": "stdout",
     "output_type": "stream",
     "text": [
      "('inspection_score', 'mean', 14114, 86.23525427130636, 86.23525427130636)\n",
      "('business_latitude', 'mean', 24095, 37.7552651997791, 37.7552651997791)\n",
      "('business_longitude', 'mean', 24095, -122.37375472595221, -122.37375472595221)\n",
      "\n",
      "('inspection_score', 'median', 14114, 88.0, 88.0)\n",
      "('business_latitude', 'median', 24095, 37.780174, 37.780174)\n",
      "('business_longitude', 'median', 24095, -122.41913600000001, -122.41913600000001)\n",
      "\n",
      "('inspection_score', 'most_frequent', 14114, 90.0, 90.0)\n",
      "('business_latitude', 'most_frequent', 24095, 37.808240000000005, 37.808240000000005)\n",
      "('business_longitude', 'most_frequent', 24095, -122.41018899999999, -122.41018899999999)\n",
      "\n"
     ]
    }
   ],
   "source": [
    "for strategy in strategies:\n",
    "    print(test_num_impute_col(data, 'inspection_score', strategy))\n",
    "    print(test_num_impute_col(data, 'business_latitude', strategy))\n",
    "    print(test_num_impute_col(data, 'business_longitude', strategy), end='\\n\\n')"
   ]
  },
  {
   "cell_type": "markdown",
   "metadata": {},
   "source": [
    "### 1.2 Обработка пропусков в категориальных данных"
   ]
  },
  {
   "cell_type": "code",
   "execution_count": 66,
   "metadata": {},
   "outputs": [
    {
     "name": "stdout",
     "output_type": "stream",
     "text": [
      "Колонка business_postal_code. Тип данных object. Количество пустых значений 1083, 2.01%.\n",
      "Колонка business_location. Тип данных object. Количество пустых значений 24095, 44.64%.\n",
      "Колонка violation_id. Тип данных object. Количество пустых значений 13462, 24.94%.\n",
      "Колонка violation_description. Тип данных object. Количество пустых значений 13462, 24.94%.\n",
      "Колонка risk_category. Тип данных object. Количество пустых значений 13462, 24.94%.\n"
     ]
    }
   ],
   "source": [
    "cat_cols = []\n",
    "for col in data.columns:\n",
    "    # Количество пустых значений \n",
    "    temp_null_count = data[data[col].isnull()].shape[0]\n",
    "    dt = str(data[col].dtype)\n",
    "    if temp_null_count>0 and (dt=='object'):\n",
    "        cat_cols.append(col)\n",
    "        temp_perc = round((temp_null_count / rows_count) * 100.0, 2)\n",
    "        print('Колонка {}. Тип данных {}. Количество пустых значений {}, {}%.'.format(col, dt, temp_null_count, temp_perc))"
   ]
  },
  {
   "cell_type": "code",
   "execution_count": 68,
   "metadata": {},
   "outputs": [
    {
     "data": {
      "text/html": [
       "<div>\n",
       "<style scoped>\n",
       "    .dataframe tbody tr th:only-of-type {\n",
       "        vertical-align: middle;\n",
       "    }\n",
       "\n",
       "    .dataframe tbody tr th {\n",
       "        vertical-align: top;\n",
       "    }\n",
       "\n",
       "    .dataframe thead th {\n",
       "        text-align: right;\n",
       "    }\n",
       "</style>\n",
       "<table border=\"1\" class=\"dataframe\">\n",
       "  <thead>\n",
       "    <tr style=\"text-align: right;\">\n",
       "      <th></th>\n",
       "      <th>risk_category</th>\n",
       "    </tr>\n",
       "  </thead>\n",
       "  <tbody>\n",
       "    <tr>\n",
       "      <th>0</th>\n",
       "      <td>Moderate Risk</td>\n",
       "    </tr>\n",
       "    <tr>\n",
       "      <th>1</th>\n",
       "      <td>Moderate Risk</td>\n",
       "    </tr>\n",
       "    <tr>\n",
       "      <th>2</th>\n",
       "      <td>Moderate Risk</td>\n",
       "    </tr>\n",
       "    <tr>\n",
       "      <th>3</th>\n",
       "      <td>NaN</td>\n",
       "    </tr>\n",
       "    <tr>\n",
       "      <th>4</th>\n",
       "      <td>Moderate Risk</td>\n",
       "    </tr>\n",
       "  </tbody>\n",
       "</table>\n",
       "</div>"
      ],
      "text/plain": [
       "   risk_category\n",
       "0  Moderate Risk\n",
       "1  Moderate Risk\n",
       "2  Moderate Risk\n",
       "3            NaN\n",
       "4  Moderate Risk"
      ]
     },
     "execution_count": 68,
     "metadata": {},
     "output_type": "execute_result"
    }
   ],
   "source": [
    "cat_temp_data = data[['risk_category']]\n",
    "cat_temp_data.head()"
   ]
  },
  {
   "cell_type": "code",
   "execution_count": 69,
   "metadata": {},
   "outputs": [
    {
     "data": {
      "text/plain": [
       "array(['Moderate Risk', nan, 'Low Risk', 'High Risk'], dtype=object)"
      ]
     },
     "execution_count": 69,
     "metadata": {},
     "output_type": "execute_result"
    }
   ],
   "source": [
    "cat_temp_data['risk_category'].unique()"
   ]
  },
  {
   "cell_type": "code",
   "execution_count": 70,
   "metadata": {},
   "outputs": [
    {
     "data": {
      "text/plain": [
       "(13462, 1)"
      ]
     },
     "execution_count": 70,
     "metadata": {},
     "output_type": "execute_result"
    }
   ],
   "source": [
    "cat_temp_data[cat_temp_data['risk_category'].isnull()].shape"
   ]
  },
  {
   "cell_type": "code",
   "execution_count": 71,
   "metadata": {},
   "outputs": [
    {
     "data": {
      "text/plain": [
       "array([['Moderate Risk'],\n",
       "       ['Moderate Risk'],\n",
       "       ['Moderate Risk'],\n",
       "       ...,\n",
       "       ['Moderate Risk'],\n",
       "       ['High Risk'],\n",
       "       ['Low Risk']], dtype=object)"
      ]
     },
     "execution_count": 71,
     "metadata": {},
     "output_type": "execute_result"
    }
   ],
   "source": [
    "# Импьютация наиболее частыми значениями\n",
    "imp2 = SimpleImputer(missing_values=np.nan, strategy='most_frequent')\n",
    "data_imp2 = imp2.fit_transform(cat_temp_data)\n",
    "data_imp2"
   ]
  },
  {
   "cell_type": "code",
   "execution_count": 72,
   "metadata": {},
   "outputs": [
    {
     "data": {
      "text/plain": [
       "array(['High Risk', 'Low Risk', 'Moderate Risk'], dtype=object)"
      ]
     },
     "execution_count": 72,
     "metadata": {},
     "output_type": "execute_result"
    }
   ],
   "source": [
    "# Пустые значения отсутствуют\n",
    "np.unique(data_imp2)"
   ]
  },
  {
   "cell_type": "code",
   "execution_count": 74,
   "metadata": {},
   "outputs": [
    {
     "data": {
      "text/plain": [
       "array([['Moderate Risk'],\n",
       "       ['Moderate Risk'],\n",
       "       ['Moderate Risk'],\n",
       "       ...,\n",
       "       ['Moderate Risk'],\n",
       "       ['High Risk'],\n",
       "       ['Unknown']], dtype=object)"
      ]
     },
     "execution_count": 74,
     "metadata": {},
     "output_type": "execute_result"
    }
   ],
   "source": [
    "# Импьютация константой\n",
    "imp3 = SimpleImputer(missing_values=np.nan, strategy='constant', fill_value='Unknown')\n",
    "data_imp3 = imp3.fit_transform(cat_temp_data)\n",
    "data_imp3"
   ]
  },
  {
   "cell_type": "code",
   "execution_count": 75,
   "metadata": {},
   "outputs": [
    {
     "data": {
      "text/plain": [
       "array(['High Risk', 'Low Risk', 'Moderate Risk', 'Unknown'], dtype=object)"
      ]
     },
     "execution_count": 75,
     "metadata": {},
     "output_type": "execute_result"
    }
   ],
   "source": [
    "np.unique(data_imp3)"
   ]
  },
  {
   "cell_type": "code",
   "execution_count": 76,
   "metadata": {},
   "outputs": [
    {
     "data": {
      "text/plain": [
       "13462"
      ]
     },
     "execution_count": 76,
     "metadata": {},
     "output_type": "execute_result"
    }
   ],
   "source": [
    "data_imp3[data_imp3=='Unknown'].size"
   ]
  },
  {
   "cell_type": "markdown",
   "metadata": {},
   "source": [
    "## 2 Преобразование категориальных признаков в числовые"
   ]
  },
  {
   "cell_type": "code",
   "execution_count": 77,
   "metadata": {},
   "outputs": [
    {
     "data": {
      "text/html": [
       "<div>\n",
       "<style scoped>\n",
       "    .dataframe tbody tr th:only-of-type {\n",
       "        vertical-align: middle;\n",
       "    }\n",
       "\n",
       "    .dataframe tbody tr th {\n",
       "        vertical-align: top;\n",
       "    }\n",
       "\n",
       "    .dataframe thead th {\n",
       "        text-align: right;\n",
       "    }\n",
       "</style>\n",
       "<table border=\"1\" class=\"dataframe\">\n",
       "  <thead>\n",
       "    <tr style=\"text-align: right;\">\n",
       "      <th></th>\n",
       "      <th>c1</th>\n",
       "    </tr>\n",
       "  </thead>\n",
       "  <tbody>\n",
       "    <tr>\n",
       "      <th>0</th>\n",
       "      <td>Moderate Risk</td>\n",
       "    </tr>\n",
       "    <tr>\n",
       "      <th>1</th>\n",
       "      <td>Moderate Risk</td>\n",
       "    </tr>\n",
       "    <tr>\n",
       "      <th>2</th>\n",
       "      <td>Moderate Risk</td>\n",
       "    </tr>\n",
       "    <tr>\n",
       "      <th>3</th>\n",
       "      <td>Low Risk</td>\n",
       "    </tr>\n",
       "    <tr>\n",
       "      <th>4</th>\n",
       "      <td>Moderate Risk</td>\n",
       "    </tr>\n",
       "    <tr>\n",
       "      <th>...</th>\n",
       "      <td>...</td>\n",
       "    </tr>\n",
       "    <tr>\n",
       "      <th>53968</th>\n",
       "      <td>Low Risk</td>\n",
       "    </tr>\n",
       "    <tr>\n",
       "      <th>53969</th>\n",
       "      <td>Moderate Risk</td>\n",
       "    </tr>\n",
       "    <tr>\n",
       "      <th>53970</th>\n",
       "      <td>Moderate Risk</td>\n",
       "    </tr>\n",
       "    <tr>\n",
       "      <th>53971</th>\n",
       "      <td>High Risk</td>\n",
       "    </tr>\n",
       "    <tr>\n",
       "      <th>53972</th>\n",
       "      <td>Low Risk</td>\n",
       "    </tr>\n",
       "  </tbody>\n",
       "</table>\n",
       "<p>53973 rows × 1 columns</p>\n",
       "</div>"
      ],
      "text/plain": [
       "                  c1\n",
       "0      Moderate Risk\n",
       "1      Moderate Risk\n",
       "2      Moderate Risk\n",
       "3           Low Risk\n",
       "4      Moderate Risk\n",
       "...              ...\n",
       "53968       Low Risk\n",
       "53969  Moderate Risk\n",
       "53970  Moderate Risk\n",
       "53971      High Risk\n",
       "53972       Low Risk\n",
       "\n",
       "[53973 rows x 1 columns]"
      ]
     },
     "execution_count": 77,
     "metadata": {},
     "output_type": "execute_result"
    }
   ],
   "source": [
    "cat_enc = pd.DataFrame({'c1':data_imp2.T[0]})\n",
    "cat_enc"
   ]
  },
  {
   "cell_type": "markdown",
   "metadata": {},
   "source": [
    "### 2.1 Кодирование категорий целочисленными значениями"
   ]
  },
  {
   "cell_type": "code",
   "execution_count": 78,
   "metadata": {},
   "outputs": [],
   "source": [
    "from sklearn.preprocessing import LabelEncoder, OneHotEncoder"
   ]
  },
  {
   "cell_type": "code",
   "execution_count": 80,
   "metadata": {},
   "outputs": [
    {
     "data": {
      "text/plain": [
       "array(['Moderate Risk', 'Low Risk', 'High Risk'], dtype=object)"
      ]
     },
     "execution_count": 80,
     "metadata": {},
     "output_type": "execute_result"
    }
   ],
   "source": [
    "le = LabelEncoder()\n",
    "cat_enc_le = le.fit_transform(cat_enc['c1'])\n",
    "cat_enc['c1'].unique()"
   ]
  },
  {
   "cell_type": "code",
   "execution_count": 81,
   "metadata": {},
   "outputs": [
    {
     "data": {
      "text/plain": [
       "array([0, 1, 2])"
      ]
     },
     "execution_count": 81,
     "metadata": {},
     "output_type": "execute_result"
    }
   ],
   "source": [
    "np.unique(cat_enc_le)"
   ]
  },
  {
   "cell_type": "code",
   "execution_count": 82,
   "metadata": {},
   "outputs": [
    {
     "data": {
      "text/plain": [
       "array(['High Risk', 'Low Risk', 'Moderate Risk'], dtype=object)"
      ]
     },
     "execution_count": 82,
     "metadata": {},
     "output_type": "execute_result"
    }
   ],
   "source": [
    "le.inverse_transform([0, 1, 2])"
   ]
  },
  {
   "cell_type": "markdown",
   "metadata": {},
   "source": [
    "### 2.2 Кодирование категорий наборами бинарных значений"
   ]
  },
  {
   "cell_type": "code",
   "execution_count": 83,
   "metadata": {},
   "outputs": [
    {
     "data": {
      "text/plain": [
       "(53973, 1)"
      ]
     },
     "execution_count": 83,
     "metadata": {},
     "output_type": "execute_result"
    }
   ],
   "source": [
    "ohe = OneHotEncoder()\n",
    "cat_enc_ohe = ohe.fit_transform(cat_enc[['c1']])\n",
    "cat_enc.shape"
   ]
  },
  {
   "cell_type": "code",
   "execution_count": 84,
   "metadata": {},
   "outputs": [
    {
     "data": {
      "text/plain": [
       "(53973, 3)"
      ]
     },
     "execution_count": 84,
     "metadata": {},
     "output_type": "execute_result"
    }
   ],
   "source": [
    "cat_enc_ohe.shape"
   ]
  },
  {
   "cell_type": "code",
   "execution_count": 85,
   "metadata": {},
   "outputs": [
    {
     "data": {
      "text/plain": [
       "<53973x3 sparse matrix of type '<class 'numpy.float64'>'\n",
       "\twith 53973 stored elements in Compressed Sparse Row format>"
      ]
     },
     "execution_count": 85,
     "metadata": {},
     "output_type": "execute_result"
    }
   ],
   "source": [
    "cat_enc_ohe"
   ]
  },
  {
   "cell_type": "code",
   "execution_count": 86,
   "metadata": {},
   "outputs": [
    {
     "data": {
      "text/plain": [
       "matrix([[0., 0., 1.],\n",
       "        [0., 0., 1.],\n",
       "        [0., 0., 1.],\n",
       "        [0., 1., 0.],\n",
       "        [0., 0., 1.],\n",
       "        [0., 1., 0.],\n",
       "        [0., 1., 0.],\n",
       "        [0., 1., 0.],\n",
       "        [0., 1., 0.],\n",
       "        [0., 1., 0.]])"
      ]
     },
     "execution_count": 86,
     "metadata": {},
     "output_type": "execute_result"
    }
   ],
   "source": [
    "cat_enc_ohe.todense()[0:10]"
   ]
  },
  {
   "cell_type": "code",
   "execution_count": 87,
   "metadata": {},
   "outputs": [
    {
     "data": {
      "text/html": [
       "<div>\n",
       "<style scoped>\n",
       "    .dataframe tbody tr th:only-of-type {\n",
       "        vertical-align: middle;\n",
       "    }\n",
       "\n",
       "    .dataframe tbody tr th {\n",
       "        vertical-align: top;\n",
       "    }\n",
       "\n",
       "    .dataframe thead th {\n",
       "        text-align: right;\n",
       "    }\n",
       "</style>\n",
       "<table border=\"1\" class=\"dataframe\">\n",
       "  <thead>\n",
       "    <tr style=\"text-align: right;\">\n",
       "      <th></th>\n",
       "      <th>c1</th>\n",
       "    </tr>\n",
       "  </thead>\n",
       "  <tbody>\n",
       "    <tr>\n",
       "      <th>0</th>\n",
       "      <td>Moderate Risk</td>\n",
       "    </tr>\n",
       "    <tr>\n",
       "      <th>1</th>\n",
       "      <td>Moderate Risk</td>\n",
       "    </tr>\n",
       "    <tr>\n",
       "      <th>2</th>\n",
       "      <td>Moderate Risk</td>\n",
       "    </tr>\n",
       "    <tr>\n",
       "      <th>3</th>\n",
       "      <td>Low Risk</td>\n",
       "    </tr>\n",
       "    <tr>\n",
       "      <th>4</th>\n",
       "      <td>Moderate Risk</td>\n",
       "    </tr>\n",
       "    <tr>\n",
       "      <th>5</th>\n",
       "      <td>Low Risk</td>\n",
       "    </tr>\n",
       "    <tr>\n",
       "      <th>6</th>\n",
       "      <td>Low Risk</td>\n",
       "    </tr>\n",
       "    <tr>\n",
       "      <th>7</th>\n",
       "      <td>Low Risk</td>\n",
       "    </tr>\n",
       "    <tr>\n",
       "      <th>8</th>\n",
       "      <td>Low Risk</td>\n",
       "    </tr>\n",
       "    <tr>\n",
       "      <th>9</th>\n",
       "      <td>Low Risk</td>\n",
       "    </tr>\n",
       "  </tbody>\n",
       "</table>\n",
       "</div>"
      ],
      "text/plain": [
       "              c1\n",
       "0  Moderate Risk\n",
       "1  Moderate Risk\n",
       "2  Moderate Risk\n",
       "3       Low Risk\n",
       "4  Moderate Risk\n",
       "5       Low Risk\n",
       "6       Low Risk\n",
       "7       Low Risk\n",
       "8       Low Risk\n",
       "9       Low Risk"
      ]
     },
     "execution_count": 87,
     "metadata": {},
     "output_type": "execute_result"
    }
   ],
   "source": [
    "cat_enc.head(10)"
   ]
  },
  {
   "cell_type": "markdown",
   "metadata": {},
   "source": [
    "### 2.3 Быстрый вариант one-hot кодирования"
   ]
  },
  {
   "cell_type": "code",
   "execution_count": 88,
   "metadata": {},
   "outputs": [
    {
     "data": {
      "text/html": [
       "<div>\n",
       "<style scoped>\n",
       "    .dataframe tbody tr th:only-of-type {\n",
       "        vertical-align: middle;\n",
       "    }\n",
       "\n",
       "    .dataframe tbody tr th {\n",
       "        vertical-align: top;\n",
       "    }\n",
       "\n",
       "    .dataframe thead th {\n",
       "        text-align: right;\n",
       "    }\n",
       "</style>\n",
       "<table border=\"1\" class=\"dataframe\">\n",
       "  <thead>\n",
       "    <tr style=\"text-align: right;\">\n",
       "      <th></th>\n",
       "      <th>c1_High Risk</th>\n",
       "      <th>c1_Low Risk</th>\n",
       "      <th>c1_Moderate Risk</th>\n",
       "    </tr>\n",
       "  </thead>\n",
       "  <tbody>\n",
       "    <tr>\n",
       "      <th>0</th>\n",
       "      <td>0</td>\n",
       "      <td>0</td>\n",
       "      <td>1</td>\n",
       "    </tr>\n",
       "    <tr>\n",
       "      <th>1</th>\n",
       "      <td>0</td>\n",
       "      <td>0</td>\n",
       "      <td>1</td>\n",
       "    </tr>\n",
       "    <tr>\n",
       "      <th>2</th>\n",
       "      <td>0</td>\n",
       "      <td>0</td>\n",
       "      <td>1</td>\n",
       "    </tr>\n",
       "    <tr>\n",
       "      <th>3</th>\n",
       "      <td>0</td>\n",
       "      <td>1</td>\n",
       "      <td>0</td>\n",
       "    </tr>\n",
       "    <tr>\n",
       "      <th>4</th>\n",
       "      <td>0</td>\n",
       "      <td>0</td>\n",
       "      <td>1</td>\n",
       "    </tr>\n",
       "  </tbody>\n",
       "</table>\n",
       "</div>"
      ],
      "text/plain": [
       "   c1_High Risk  c1_Low Risk  c1_Moderate Risk\n",
       "0             0            0                 1\n",
       "1             0            0                 1\n",
       "2             0            0                 1\n",
       "3             0            1                 0\n",
       "4             0            0                 1"
      ]
     },
     "execution_count": 88,
     "metadata": {},
     "output_type": "execute_result"
    }
   ],
   "source": [
    "pd.get_dummies(cat_enc).head()"
   ]
  },
  {
   "cell_type": "code",
   "execution_count": 89,
   "metadata": {},
   "outputs": [
    {
     "data": {
      "text/html": [
       "<div>\n",
       "<style scoped>\n",
       "    .dataframe tbody tr th:only-of-type {\n",
       "        vertical-align: middle;\n",
       "    }\n",
       "\n",
       "    .dataframe tbody tr th {\n",
       "        vertical-align: top;\n",
       "    }\n",
       "\n",
       "    .dataframe thead th {\n",
       "        text-align: right;\n",
       "    }\n",
       "</style>\n",
       "<table border=\"1\" class=\"dataframe\">\n",
       "  <thead>\n",
       "    <tr style=\"text-align: right;\">\n",
       "      <th></th>\n",
       "      <th>risk_category_High Risk</th>\n",
       "      <th>risk_category_Low Risk</th>\n",
       "      <th>risk_category_Moderate Risk</th>\n",
       "      <th>risk_category_nan</th>\n",
       "    </tr>\n",
       "  </thead>\n",
       "  <tbody>\n",
       "    <tr>\n",
       "      <th>0</th>\n",
       "      <td>0</td>\n",
       "      <td>0</td>\n",
       "      <td>1</td>\n",
       "      <td>0</td>\n",
       "    </tr>\n",
       "    <tr>\n",
       "      <th>1</th>\n",
       "      <td>0</td>\n",
       "      <td>0</td>\n",
       "      <td>1</td>\n",
       "      <td>0</td>\n",
       "    </tr>\n",
       "    <tr>\n",
       "      <th>2</th>\n",
       "      <td>0</td>\n",
       "      <td>0</td>\n",
       "      <td>1</td>\n",
       "      <td>0</td>\n",
       "    </tr>\n",
       "    <tr>\n",
       "      <th>3</th>\n",
       "      <td>0</td>\n",
       "      <td>0</td>\n",
       "      <td>0</td>\n",
       "      <td>1</td>\n",
       "    </tr>\n",
       "    <tr>\n",
       "      <th>4</th>\n",
       "      <td>0</td>\n",
       "      <td>0</td>\n",
       "      <td>1</td>\n",
       "      <td>0</td>\n",
       "    </tr>\n",
       "  </tbody>\n",
       "</table>\n",
       "</div>"
      ],
      "text/plain": [
       "   risk_category_High Risk  risk_category_Low Risk  \\\n",
       "0                        0                       0   \n",
       "1                        0                       0   \n",
       "2                        0                       0   \n",
       "3                        0                       0   \n",
       "4                        0                       0   \n",
       "\n",
       "   risk_category_Moderate Risk  risk_category_nan  \n",
       "0                            1                  0  \n",
       "1                            1                  0  \n",
       "2                            1                  0  \n",
       "3                            0                  1  \n",
       "4                            1                  0  "
      ]
     },
     "execution_count": 89,
     "metadata": {},
     "output_type": "execute_result"
    }
   ],
   "source": [
    "pd.get_dummies(cat_temp_data, dummy_na=True).head()"
   ]
  },
  {
   "cell_type": "markdown",
   "metadata": {},
   "source": [
    "## 3 Масштабирование данных"
   ]
  },
  {
   "cell_type": "markdown",
   "metadata": {},
   "source": [
    "#### Заменяю пропуски в колонке 'inspection_score' исходного датасета, чтобы использовать ее для масштабирования/нормализации"
   ]
  },
  {
   "cell_type": "code",
   "execution_count": 109,
   "metadata": {},
   "outputs": [],
   "source": [
    "def num_impute_col(dataset, column, strategy_param):\n",
    "    temp_data = dataset[[column]]\n",
    "    \n",
    "    indicator = MissingIndicator()\n",
    "    mask_missing_values_only = indicator.fit_transform(temp_data)\n",
    "    \n",
    "    imp_num = SimpleImputer(strategy=strategy_param)\n",
    "    data_num_imp = imp_num.fit_transform(temp_data)\n",
    "#     data_num_imp = imp_num.fit_transform(dataset[[column]])\n",
    "    \n",
    "    filled_data = data_num_imp[mask_missing_values_only]\n",
    "    \n",
    "    new_data = imp_num.transform(dataset[[column]])\n",
    "    \n",
    "    return new_data\n"
   ]
  },
  {
   "cell_type": "code",
   "execution_count": 110,
   "metadata": {},
   "outputs": [
    {
     "data": {
      "text/plain": [
       "array([[86.23525427],\n",
       "       [96.        ],\n",
       "       [88.        ],\n",
       "       ...,\n",
       "       [84.        ],\n",
       "       [83.        ],\n",
       "       [86.23525427]])"
      ]
     },
     "execution_count": 110,
     "metadata": {},
     "output_type": "execute_result"
    }
   ],
   "source": [
    "num_impute_col(data, 'inspection_score', 'mean')"
   ]
  },
  {
   "cell_type": "code",
   "execution_count": 115,
   "metadata": {},
   "outputs": [],
   "source": [
    "data[['inspection_score']] = num_impute_col(data, 'inspection_score', 'mean')"
   ]
  },
  {
   "cell_type": "code",
   "execution_count": 116,
   "metadata": {},
   "outputs": [
    {
     "data": {
      "text/html": [
       "<div>\n",
       "<style scoped>\n",
       "    .dataframe tbody tr th:only-of-type {\n",
       "        vertical-align: middle;\n",
       "    }\n",
       "\n",
       "    .dataframe tbody tr th {\n",
       "        vertical-align: top;\n",
       "    }\n",
       "\n",
       "    .dataframe thead th {\n",
       "        text-align: right;\n",
       "    }\n",
       "</style>\n",
       "<table border=\"1\" class=\"dataframe\">\n",
       "  <thead>\n",
       "    <tr style=\"text-align: right;\">\n",
       "      <th></th>\n",
       "      <th>inspection_score</th>\n",
       "    </tr>\n",
       "  </thead>\n",
       "  <tbody>\n",
       "    <tr>\n",
       "      <th>0</th>\n",
       "      <td>86.235254</td>\n",
       "    </tr>\n",
       "    <tr>\n",
       "      <th>1</th>\n",
       "      <td>96.000000</td>\n",
       "    </tr>\n",
       "    <tr>\n",
       "      <th>2</th>\n",
       "      <td>88.000000</td>\n",
       "    </tr>\n",
       "    <tr>\n",
       "      <th>3</th>\n",
       "      <td>86.235254</td>\n",
       "    </tr>\n",
       "    <tr>\n",
       "      <th>4</th>\n",
       "      <td>94.000000</td>\n",
       "    </tr>\n",
       "    <tr>\n",
       "      <th>...</th>\n",
       "      <td>...</td>\n",
       "    </tr>\n",
       "    <tr>\n",
       "      <th>53968</th>\n",
       "      <td>94.000000</td>\n",
       "    </tr>\n",
       "    <tr>\n",
       "      <th>53969</th>\n",
       "      <td>75.000000</td>\n",
       "    </tr>\n",
       "    <tr>\n",
       "      <th>53970</th>\n",
       "      <td>84.000000</td>\n",
       "    </tr>\n",
       "    <tr>\n",
       "      <th>53971</th>\n",
       "      <td>83.000000</td>\n",
       "    </tr>\n",
       "    <tr>\n",
       "      <th>53972</th>\n",
       "      <td>86.235254</td>\n",
       "    </tr>\n",
       "  </tbody>\n",
       "</table>\n",
       "<p>53973 rows × 1 columns</p>\n",
       "</div>"
      ],
      "text/plain": [
       "       inspection_score\n",
       "0             86.235254\n",
       "1             96.000000\n",
       "2             88.000000\n",
       "3             86.235254\n",
       "4             94.000000\n",
       "...                 ...\n",
       "53968         94.000000\n",
       "53969         75.000000\n",
       "53970         84.000000\n",
       "53971         83.000000\n",
       "53972         86.235254\n",
       "\n",
       "[53973 rows x 1 columns]"
      ]
     },
     "execution_count": 116,
     "metadata": {},
     "output_type": "execute_result"
    }
   ],
   "source": [
    "data[['inspection_score']]"
   ]
  },
  {
   "cell_type": "code",
   "execution_count": null,
   "metadata": {},
   "outputs": [],
   "source": []
  },
  {
   "cell_type": "markdown",
   "metadata": {},
   "source": [
    "### 3.1 MinMax масштабирование"
   ]
  },
  {
   "cell_type": "code",
   "execution_count": 90,
   "metadata": {},
   "outputs": [],
   "source": [
    "from sklearn.preprocessing import MinMaxScaler, StandardScaler, Normalizer"
   ]
  },
  {
   "cell_type": "code",
   "execution_count": 125,
   "metadata": {},
   "outputs": [],
   "source": [
    "sc1 = MinMaxScaler()\n",
    "sc1_data = sc1.fit_transform(data[['inspection_score']])"
   ]
  },
  {
   "cell_type": "code",
   "execution_count": 126,
   "metadata": {},
   "outputs": [
    {
     "data": {
      "image/png": "[encoded data removed]",
      "text/plain": [
       "<Figure size 432x288 with 1 Axes>"
      ]
     },
     "metadata": {},
     "output_type": "display_data"
    }
   ],
   "source": [
    "plt.hist(data['inspection_score'], 50)\n",
    "plt.show()"
   ]
  },
  {
   "cell_type": "code",
   "execution_count": 127,
   "metadata": {},
   "outputs": [
    {
     "data": {
      "image/png": "[encoded data removed]",
      "text/plain": [
       "<Figure size 432x288 with 1 Axes>"
      ]
     },
     "metadata": {},
     "output_type": "display_data"
    }
   ],
   "source": [
    "plt.hist(sc1_data, 50)\n",
    "plt.show()"
   ]
  },
  {
   "cell_type": "markdown",
   "metadata": {},
   "source": [
    "### 3.2 Масштабирование данных на основе Z-оценки"
   ]
  },
  {
   "cell_type": "code",
   "execution_count": 128,
   "metadata": {},
   "outputs": [],
   "source": [
    "sc2 = StandardScaler()\n",
    "sc2_data = sc2.fit_transform(data[['inspection_score']])"
   ]
  },
  {
   "cell_type": "code",
   "execution_count": 129,
   "metadata": {},
   "outputs": [
    {
     "data": {
      "image/png": "[encoded data removed]",
      "text/plain": [
       "<Figure size 432x288 with 1 Axes>"
      ]
     },
     "metadata": {},
     "output_type": "display_data"
    }
   ],
   "source": [
    "plt.hist(sc2_data, 50)\n",
    "plt.show()"
   ]
  },
  {
   "cell_type": "markdown",
   "metadata": {},
   "source": [
    "### 3.3. Нормализация данных"
   ]
  },
  {
   "cell_type": "code",
   "execution_count": 130,
   "metadata": {},
   "outputs": [],
   "source": [
    "sc3 = Normalizer()\n",
    "sc3_data = sc3.fit_transform(data[['inspection_score']])"
   ]
  },
  {
   "cell_type": "code",
   "execution_count": 131,
   "metadata": {},
   "outputs": [
    {
     "data": {
      "image/png": "[encoded data removed]",
      "text/plain": [
       "<Figure size 432x288 with 1 Axes>"
      ]
     },
     "metadata": {},
     "output_type": "display_data"
    }
   ],
   "source": [
    "plt.hist(sc3_data, 50)\n",
    "plt.show()"
   ]
  },
  {
   "cell_type": "code",
   "execution_count": null,
   "metadata": {},
   "outputs": [],
   "source": []
  }
 ],
 "metadata": {
  "kernelspec": {
   "display_name": "Python 3",
   "language": "python",
   "name": "python3"
  },
  "language_info": {
   "codemirror_mode": {
    "name": "ipython",
    "version": 3
   },
   "file_extension": ".py",
   "mimetype": "text/x-python",
   "name": "python",
   "nbconvert_exporter": "python",
   "pygments_lexer": "ipython3",
   "version": "3.7.5"
  }
 },
 "nbformat": 4,
 "nbformat_minor": 4
}
